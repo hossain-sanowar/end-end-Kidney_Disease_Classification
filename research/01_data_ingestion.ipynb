{
 "cells": [
  {
   "cell_type": "code",
   "execution_count": 94,
   "metadata": {},
   "outputs": [],
   "source": [
    "import os"
   ]
  },
  {
   "cell_type": "code",
   "execution_count": 95,
   "metadata": {},
   "outputs": [
    {
     "data": {
      "text/plain": [
       "'C:\\\\Users\\\\mhossain\\\\Documents\\\\Machine_Learning_Projects\\\\kidney_diseases'"
      ]
     },
     "execution_count": 95,
     "metadata": {},
     "output_type": "execute_result"
    }
   ],
   "source": [
    "%pwd #present working directory"
   ]
  },
  {
   "cell_type": "code",
   "execution_count": 96,
   "metadata": {},
   "outputs": [],
   "source": [
    "os.chdir(\"C:/Users/mhossain/Documents/Machine_Learning_Projects/kidney_diseases\")"
   ]
  },
  {
   "cell_type": "code",
   "execution_count": 97,
   "metadata": {},
   "outputs": [],
   "source": [
    "#I need to go back the project directory\n",
    "#os.chdir(\"../\") #change the working directory"
   ]
  },
  {
   "cell_type": "code",
   "execution_count": 98,
   "metadata": {},
   "outputs": [
    {
     "data": {
      "text/plain": [
       "'C:\\\\Users\\\\mhossain\\\\Documents\\\\Machine_Learning_Projects\\\\kidney_diseases'"
      ]
     },
     "execution_count": 98,
     "metadata": {},
     "output_type": "execute_result"
    }
   ],
   "source": [
    "%pwd"
   ]
  },
  {
   "cell_type": "markdown",
   "metadata": {},
   "source": [
    "# Entity \n",
    "* return type of any function\n",
    "* return type of my data ingestion function"
   ]
  },
  {
   "cell_type": "code",
   "execution_count": 99,
   "metadata": {},
   "outputs": [],
   "source": [
    "from dataclasses import dataclass\n",
    "from pathlib import Path"
   ]
  },
  {
   "cell_type": "code",
   "execution_count": 116,
   "metadata": {},
   "outputs": [],
   "source": [
    "@dataclass(frozen=True)\n",
    "class DataIngestionConfig:\n",
    "    root_dir:Path #these are the access of variable from the other class\n",
    "    source_URL: str\n",
    "    local_data_file: Path\n",
    "    unzip_dir: Path"
   ]
  },
  {
   "cell_type": "code",
   "execution_count": 117,
   "metadata": {},
   "outputs": [],
   "source": [
    "from cnnClassifier.constants import *\n",
    "from cnnClassifier.utils.common import read_yaml, create_directories"
   ]
  },
  {
   "cell_type": "code",
   "execution_count": 118,
   "metadata": {},
   "outputs": [],
   "source": [
    "class ConfigurationManager:\n",
    "    def __init__(self, \n",
    "                 config_filepath = CONFIG_FILE_PATH, #data source and destination\n",
    "                 params_filepath =PARAMS_FILE_PATH): #hyperparameter\n",
    "        \n",
    "        self.config=read_yaml(config_filepath) #read data by yaml\n",
    "        self.params=read_yaml(params_filepath) #read hyperparameter by yaml\n",
    "    \n",
    "        create_directories([self.config.artifacts_root]) #create artifacts folder\n",
    "    \n",
    "    def get_data_ingestion_config(self) -> DataIngestionConfig:\n",
    "        config=self.config.data_ingestion #taking input from config file as source data\n",
    "        \n",
    "        create_directories([config.root_dir])#??\n",
    "        \n",
    "        data_ingestion_config = DataIngestionConfig( #copy data from DataIngestionConfig\n",
    "            root_dir=config.root_dir,\n",
    "            source_URL=config.source_URL,\n",
    "            local_data_file=config.local_data_file,\n",
    "            unzip_dir=config.unzip_dir\n",
    "        )\n",
    "        \n",
    "        return data_ingestion_config"
   ]
  },
  {
   "cell_type": "markdown",
   "metadata": {},
   "source": [
    "# src/components"
   ]
  },
  {
   "cell_type": "code",
   "execution_count": 119,
   "metadata": {},
   "outputs": [],
   "source": [
    "import os\n",
    "import zipfile\n",
    "import gdown\n",
    "from cnnClassifier import logger\n",
    "from cnnClassifier.utils.common import get_size"
   ]
  },
  {
   "cell_type": "code",
   "execution_count": 120,
   "metadata": {},
   "outputs": [],
   "source": [
    "class DataIngestion:\n",
    "    def __init__(self, config: DataIngestionConfig):\n",
    "        self.config=config\n",
    "        \n",
    "    def download_file(self)->str:\n",
    "        '''\n",
    "        Fetch data from the url\n",
    "        \n",
    "        '''\n",
    "\n",
    "        try:\n",
    "            dataset_url=self.config.source_URL #data source url\n",
    "            zip_download_dir=self.config.local_data_file #download local file\n",
    "            os.makedirs(\"artifacts/data_ingestion\", exist_ok=True) #create folder\n",
    "            logger.info(f\"Downloading data from {dataset_url} into file {zip_download_dir}\")\n",
    "            \n",
    "            file_id=dataset_url.split(\"/\")[-2]\n",
    "            prefix=\"https://drive.google.com/uc?/export=download&id=\"\n",
    "            gdown.download(prefix+file_id, zip_download_dir)\n",
    "            \n",
    "            logger.info(f\"Downloaded data from {dataset_url} into file {zip_download_dir}\")\n",
    "            \n",
    "        except Exception as e:\n",
    "            raise e\n",
    "    \n",
    "    def extract_zip_file(self):\n",
    "        \"\"\"\n",
    "        zip_file_path: str\n",
    "        Extract the zip file into the data directory\n",
    "        Function returns None\n",
    "        \"\"\"\n",
    "        \n",
    "        unzip_path=self.config.unzip_dir #unzip path\n",
    "        os.makedirs(unzip_path,exist_ok=True) #create unzip folder\n",
    "        with zipfile.ZipFile(self.config.local_data_file, 'r') as zip_ref:\n",
    "            zip_ref.extractall(unzip_path) "
   ]
  },
  {
   "cell_type": "markdown",
   "metadata": {},
   "source": [
    "# Pipeline\n",
    "\n",
    "* execution command one after another"
   ]
  },
  {
   "cell_type": "code",
   "execution_count": 121,
   "metadata": {},
   "outputs": [
    {
     "name": "stdout",
     "output_type": "stream",
     "text": [
      "[2024-02-03 15:21:49,832:INFO:common:yaml file: config\\config.yaml loaded successfully]\n",
      "[2024-02-03 15:21:49,834:INFO:common:yaml file: params.yaml loaded successfully]\n",
      "[2024-02-03 15:21:49,834:INFO:common:created directory at: artifacts]\n",
      "[2024-02-03 15:21:49,835:INFO:common:created directory at: artifacts/data_ingestion]\n",
      "[2024-02-03 15:21:49,836:INFO:4141667296:Downloading data from https://drive.google.com/file/d/13uWZZ1nhijwqJfg4hCvgNfpm7RSLi9LM/view?usp=sharing into file artifacts/data_ingestion/data.zip]\n"
     ]
    },
    {
     "name": "stderr",
     "output_type": "stream",
     "text": [
      "Downloading...\n",
      "From (original): https://drive.google.com/uc?/export=download&id=13uWZZ1nhijwqJfg4hCvgNfpm7RSLi9LM\n",
      "From (redirected): https://drive.google.com/uc?/export=download&id=13uWZZ1nhijwqJfg4hCvgNfpm7RSLi9LM&confirm=t&uuid=2186f05b-2b64-4beb-9cc2-ff350a1147d9\n",
      "To: C:\\Users\\mhossain\\Documents\\Machine_Learning_Projects\\kidney_diseases\\artifacts\\data_ingestion\\data.zip\n",
      "100%|██████████| 941M/941M [02:35<00:00, 6.05MB/s] "
     ]
    },
    {
     "name": "stdout",
     "output_type": "stream",
     "text": [
      "[2024-02-03 15:24:26,995:INFO:4141667296:Downloaded data from https://drive.google.com/file/d/13uWZZ1nhijwqJfg4hCvgNfpm7RSLi9LM/view?usp=sharing into file artifacts/data_ingestion/data.zip]\n"
     ]
    },
    {
     "name": "stderr",
     "output_type": "stream",
     "text": [
      "\n"
     ]
    }
   ],
   "source": [
    "try:\n",
    "    config=ConfigurationManager() #\n",
    "    data_ingestion_config=config.get_data_ingestion_config()\n",
    "    data_ingestion=DataIngestion(config=data_ingestion_config)\n",
    "    data_ingestion.download_file()\n",
    "    data_ingestion.extract_zip_file()\n",
    "    \n",
    "except Exception as e:\n",
    "    raise e"
   ]
  },
  {
   "cell_type": "code",
   "execution_count": null,
   "metadata": {},
   "outputs": [
    {
     "data": {
      "text/plain": [
       "'C:\\\\Users\\\\mhossain\\\\Documents\\\\Machine_Learning_Projects\\\\kidney_diseases'"
      ]
     },
     "execution_count": 81,
     "metadata": {},
     "output_type": "execute_result"
    }
   ],
   "source": [
    "%pwd"
   ]
  },
  {
   "cell_type": "code",
   "execution_count": null,
   "metadata": {},
   "outputs": [],
   "source": []
  }
 ],
 "metadata": {
  "kernelspec": {
   "display_name": "kidney",
   "language": "python",
   "name": "python3"
  },
  "language_info": {
   "codemirror_mode": {
    "name": "ipython",
    "version": 3
   },
   "file_extension": ".py",
   "mimetype": "text/x-python",
   "name": "python",
   "nbconvert_exporter": "python",
   "pygments_lexer": "ipython3",
   "version": "3.11.7"
  }
 },
 "nbformat": 4,
 "nbformat_minor": 2
}
