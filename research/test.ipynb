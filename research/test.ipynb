{
 "cells": [
  {
   "cell_type": "code",
   "execution_count": 3,
   "metadata": {},
   "outputs": [],
   "source": [
    "class car:\n",
    "    pass\n"
   ]
  },
  {
   "cell_type": "code",
   "execution_count": 6,
   "metadata": {},
   "outputs": [
    {
     "name": "stdout",
     "output_type": "stream",
     "text": [
      "<__main__.car object at 0x000002096928D9D0>\n"
     ]
    }
   ],
   "source": [
    "obj1=car()\n",
    "print(obj1)"
   ]
  },
  {
   "cell_type": "code",
   "execution_count": 7,
   "metadata": {},
   "outputs": [],
   "source": [
    "class car:\n",
    "    def __init__(self, name, mileage):\n",
    "        self.name=name\n",
    "        self.mileage=mileage\n",
    "    \n",
    "    def description(self):\n",
    "        return f\"The {self.name} gives a mileage of {self.mileage} km/l\"\n",
    "    \n",
    "    def max_speed(self, speed):\n",
    "        return f\"the {self.name} car runs at max speed of {speed} miles/hr\"\n",
    "    "
   ]
  },
  {
   "cell_type": "code",
   "execution_count": 8,
   "metadata": {},
   "outputs": [
    {
     "name": "stdout",
     "output_type": "stream",
     "text": [
      "The BMW City gives a mileage of 458 km/l\n"
     ]
    }
   ],
   "source": [
    "BMW=car('BMW City', 458)\n",
    "print(BMW.description())"
   ]
  },
  {
   "cell_type": "code",
   "execution_count": 9,
   "metadata": {},
   "outputs": [
    {
     "name": "stdout",
     "output_type": "stream",
     "text": [
      "the BMW City car runs at max speed of 120 miles/hr\n"
     ]
    }
   ],
   "source": [
    "print(BMW.max_speed(120))"
   ]
  },
  {
   "cell_type": "code",
   "execution_count": 10,
   "metadata": {},
   "outputs": [],
   "source": [
    "Honda=car('Honda city', 458)"
   ]
  },
  {
   "cell_type": "code",
   "execution_count": 11,
   "metadata": {},
   "outputs": [
    {
     "name": "stdout",
     "output_type": "stream",
     "text": [
      "The Honda city gives a mileage of 458 km/l\n"
     ]
    }
   ],
   "source": [
    "print(Honda.description())"
   ]
  },
  {
   "cell_type": "code",
   "execution_count": 12,
   "metadata": {},
   "outputs": [
    {
     "name": "stdout",
     "output_type": "stream",
     "text": [
      "the Honda city car runs at max speed of 230 miles/hr\n"
     ]
    }
   ],
   "source": [
    "print(Honda.max_speed(230))"
   ]
  },
  {
   "cell_type": "markdown",
   "metadata": {},
   "source": [
    "# Inheritance"
   ]
  },
  {
   "cell_type": "code",
   "execution_count": 19,
   "metadata": {},
   "outputs": [],
   "source": [
    "class BMW(car): #child class of car\n",
    "    pass\n",
    "\n",
    "class Audi(car):    #child class of car\n",
    "    def audi_description(self):\n",
    "        return f\"This is the description of the {self.name}\"\n",
    "    \n",
    "    def audi_max_speed(self, speed):\n",
    "        speed=speed*2\n",
    "        return f\"The {self.name} car runs at max speed of {speed} miles/hr\""
   ]
  },
  {
   "cell_type": "code",
   "execution_count": 14,
   "metadata": {},
   "outputs": [
    {
     "name": "stdout",
     "output_type": "stream",
     "text": [
      "The BMW series gives a mileage of 458 km/l\n"
     ]
    }
   ],
   "source": [
    "obj1=BMW(\"BMW series\", 458)\n",
    "print(obj1.description())"
   ]
  },
  {
   "cell_type": "code",
   "execution_count": 15,
   "metadata": {},
   "outputs": [
    {
     "name": "stdout",
     "output_type": "stream",
     "text": [
      "the BMW series car runs at max speed of 789 miles/hr\n"
     ]
    }
   ],
   "source": [
    "print(obj1.max_speed(789))"
   ]
  },
  {
   "cell_type": "code",
   "execution_count": 21,
   "metadata": {},
   "outputs": [
    {
     "name": "stdout",
     "output_type": "stream",
     "text": [
      "The Audi series gives a mileage of 784 km/l\n"
     ]
    }
   ],
   "source": [
    "obj2=Audi('Audi series', 784)\n",
    "print(obj2.description())"
   ]
  },
  {
   "cell_type": "code",
   "execution_count": 22,
   "metadata": {},
   "outputs": [
    {
     "name": "stdout",
     "output_type": "stream",
     "text": [
      "This is the description of the Audi series\n"
     ]
    }
   ],
   "source": [
    "print(obj2.audi_description())"
   ]
  },
  {
   "cell_type": "code",
   "execution_count": 23,
   "metadata": {},
   "outputs": [
    {
     "name": "stdout",
     "output_type": "stream",
     "text": [
      "the Audi series car runs at max speed of 78 miles/hr\n"
     ]
    }
   ],
   "source": [
    "print(obj2.max_speed(78))"
   ]
  },
  {
   "cell_type": "code",
   "execution_count": 24,
   "metadata": {},
   "outputs": [
    {
     "name": "stdout",
     "output_type": "stream",
     "text": [
      "The Audi series car runs at max speed of 46 miles/hr\n"
     ]
    }
   ],
   "source": [
    "print(obj2.audi_max_speed(23))"
   ]
  },
  {
   "cell_type": "markdown",
   "metadata": {},
   "source": [
    "# Encapsulation\n",
    "* is a way to ensure security\n",
    "* underscore (_) before their names, methods such as _self.name or def _method( ) for protected\n",
    "* use double underscore (__) in the prefix. Such as __self.name or def __method() as private protected"
   ]
  },
  {
   "cell_type": "code",
   "execution_count": 50,
   "metadata": {},
   "outputs": [],
   "source": [
    "class car:\n",
    "    def __init__(self, name, color) -> None:\n",
    "        self._name = name #protected variable\n",
    "        self.color = color\n",
    "        \n",
    "    def description(self):\n",
    "        return f\"the {self._name} is beautiful because of {self.color}.\"\n",
    "    \n",
    "    def accelator(self, power):\n",
    "        power=power*2\n",
    "        return f\"{self._name} increase the speed when accelator press {power} times.\"\n",
    "    \n",
    "class BMW(car):\n",
    "    pass\n",
    "\n",
    "class Audi_car(car):\n",
    "    # def __init__(self,fuel):\n",
    "    #     self.fuel=fuel\n",
    "        \n",
    "    def fuel(self, fuel):\n",
    "        return f\"the {self.name} fuel consumtion {fuel} miles/l.\""
   ]
  },
  {
   "cell_type": "code",
   "execution_count": 51,
   "metadata": {},
   "outputs": [
    {
     "name": "stdout",
     "output_type": "stream",
     "text": [
      "the BMW is beautiful because of red.\n",
      "BMW increase the speed when accelator press 4 times.\n",
      "red\n",
      "BMW\n"
     ]
    }
   ],
   "source": [
    "#accessing protected variable via class method \n",
    "bmw=BMW('BMW', 'red')\n",
    "print(bmw.description())\n",
    "print(bmw.accelator(2))\n",
    "\n",
    "#accessing protected variable directly from outside\n",
    "print(bmw.color)\n",
    "print(bmw._name)\n"
   ]
  },
  {
   "cell_type": "code",
   "execution_count": 38,
   "metadata": {},
   "outputs": [
    {
     "name": "stdout",
     "output_type": "stream",
     "text": [
      "the Audi is beautiful because of red.\n",
      "Audi increase the speed when accelator press 4 times.\n",
      "the Audi fuel consumtion 23 miles/l.\n"
     ]
    }
   ],
   "source": [
    "audi=Audi_car('Audi', 'red')\n",
    "print(audi.description())\n",
    "print(audi.accelator(2))\n",
    "print(audi.fuel(23))"
   ]
  },
  {
   "cell_type": "code",
   "execution_count": 63,
   "metadata": {},
   "outputs": [],
   "source": [
    "class car:\n",
    "    def __init__(self, name, color) -> None:\n",
    "        self.__name = name #private  variable\n",
    "        self.color = color\n",
    "        \n",
    "    def description(self):\n",
    "        return f\"the {self.__name} is beautiful because of {self.color}.\"\n",
    "    \n",
    "    def accelator(self, power):\n",
    "        power=power*2\n",
    "        return f\"{self.__name} increase the speed when accelator press {power} times.\"\n",
    "    \n",
    "class BMW(car):\n",
    "    pass\n",
    "\n",
    "class Audi_car(car):\n",
    "    # def __init__(self,fuel):\n",
    "    #     self.fuel=fuel\n",
    "        \n",
    "    def fuel(self, fuel):\n",
    "        return f\"the {self.__name} fuel consumtion {fuel} miles/l.\""
   ]
  },
  {
   "cell_type": "code",
   "execution_count": 68,
   "metadata": {},
   "outputs": [
    {
     "name": "stdout",
     "output_type": "stream",
     "text": [
      "the BMW is beautiful because of red.\n",
      "BMW increase the speed when accelator press 4 times.\n",
      "red\n",
      "BMW\n"
     ]
    }
   ],
   "source": [
    "#accessing protected variable via class method \n",
    "bmw=BMW('BMW', 'red')\n",
    "print(bmw.description())\n",
    "print(bmw.accelator(2))\n",
    "\n",
    "#accessing protected variable directly from outside\n",
    "print(bmw.color)\n",
    "print(bmw._car__name) # access protected private variable\n"
   ]
  },
  {
   "cell_type": "markdown",
   "metadata": {},
   "source": [
    "# Polymorphism\n",
    "* “poly”-many and “morph”-forms. \n",
    "* Polymorphism means having many forms. \n",
    "* In OOP it refers to the functions having the same names but carrying different functionalities."
   ]
  },
  {
   "cell_type": "code",
   "execution_count": 69,
   "metadata": {},
   "outputs": [],
   "source": [
    "class Audi:\n",
    "    def description(self):\n",
    "        print(f\"This is the description function of class Audi\")\n",
    "class BMW:\n",
    "    def description(self):\n",
    "        print(f\"this is the description function of BMW\")"
   ]
  },
  {
   "cell_type": "code",
   "execution_count": 70,
   "metadata": {},
   "outputs": [
    {
     "name": "stdout",
     "output_type": "stream",
     "text": [
      "This is the description function of class Audi\n",
      "this is the description function of BMW\n"
     ]
    }
   ],
   "source": [
    "audi=Audi()\n",
    "bmw=BMW()\n",
    "\n",
    "for car in (audi, bmw):\n",
    "    car.description()"
   ]
  },
  {
   "cell_type": "code",
   "execution_count": 71,
   "metadata": {},
   "outputs": [
    {
     "name": "stdout",
     "output_type": "stream",
     "text": [
      "this is the description function of BMW\n"
     ]
    }
   ],
   "source": [
    "bmw.description()"
   ]
  },
  {
   "cell_type": "code",
   "execution_count": 72,
   "metadata": {},
   "outputs": [
    {
     "name": "stdout",
     "output_type": "stream",
     "text": [
      "This is the description function of class Audi\n"
     ]
    }
   ],
   "source": [
    "audi.description()"
   ]
  },
  {
   "cell_type": "markdown",
   "metadata": {},
   "source": [
    "# Data Abstraction"
   ]
  },
  {
   "cell_type": "code",
   "execution_count": null,
   "metadata": {},
   "outputs": [],
   "source": []
  }
 ],
 "metadata": {
  "kernelspec": {
   "display_name": "kidney",
   "language": "python",
   "name": "python3"
  },
  "language_info": {
   "codemirror_mode": {
    "name": "ipython",
    "version": 3
   },
   "file_extension": ".py",
   "mimetype": "text/x-python",
   "name": "python",
   "nbconvert_exporter": "python",
   "pygments_lexer": "ipython3",
   "version": "3.11.7"
  }
 },
 "nbformat": 4,
 "nbformat_minor": 2
}
